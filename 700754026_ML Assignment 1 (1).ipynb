{
 "cells": [
  {
   "cell_type": "code",
   "execution_count": null,
   "metadata": {},
   "outputs": [],
   "source": [
    "#700754026\n",
    "#Sravya Chevutukur\n",
    "#sxc40260"
   ]
  },
  {
   "cell_type": "code",
   "execution_count": 18,
   "metadata": {
    "colab": {
     "base_uri": "https://localhost:8080/"
    },
    "id": "7dvdHfOCSs3W",
    "outputId": "1ae27dbf-78c2-4303-a184-18c6c1d31d10"
   },
   "outputs": [
    {
     "name": "stdout",
     "output_type": "stream",
     "text": [
      "Array shape: (3, 5)\n",
      "[[ 0  0  0  4  4]\n",
      " [16  2 13  8  9]\n",
      " [15  5  1  2  5]]\n"
     ]
    }
   ],
   "source": [
    "#importing libraries\n",
    "import numpy as np\n",
    "a= np.random.randint(low=1, high=21, size=15)\n",
    "#reshaping using reshape() function \n",
    "a= a.reshape(3, 5)\n",
    "#print shape and size\n",
    "print(\"Array shape:\", a.shape)\n",
    "a[a.argmax(axis=1), np.arange(a.shape[0])] = 0\n",
    "print(a)"
   ]
  },
  {
   "cell_type": "code",
   "execution_count": 9,
   "metadata": {
    "colab": {
     "base_uri": "https://localhost:8080/"
    },
    "id": "0okLs32FEbDI",
    "outputId": "3f4da1cb-d3ea-4b6f-f864-ed9ff7a58747"
   },
   "outputs": [
    {
     "name": "stdout",
     "output_type": "stream",
     "text": [
      "Array shape: (4, 3)\n",
      "Array type: <class 'numpy.ndarray'>\n",
      "Array data type: int32\n",
      "[[ 1  2  3]\n",
      " [ 4  5  6]\n",
      " [ 7  8  9]\n",
      " [10 11 12]]\n"
     ]
    }
   ],
   "source": [
    "#importing libraries \n",
    "import numpy as np\n",
    "b = np.array([[1, 2, 3], [4, 5, 6], [7, 8, 9], [10, 11, 12]], dtype=np.int32)\n",
    "#printing array shape using shape() function \n",
    "print(\"Array shape:\", b.shape)\n",
    "#printing array type using type() function \n",
    "print(\"Array type:\", type(b))\n",
    "#printing array datatype using dtype() function \n",
    "print(\"Array data type:\", b.dtype)\n",
    "#printing array b\n",
    "print(b)"
   ]
  },
  {
   "cell_type": "code",
   "execution_count": 10,
   "metadata": {
    "colab": {
     "base_uri": "https://localhost:8080/"
    },
    "id": "RnLOFWCkFfIZ",
    "outputId": "0ef78840-e04a-440a-bd07-056390b642ef"
   },
   "outputs": [
    {
     "name": "stdout",
     "output_type": "stream",
     "text": [
      "Eigenvalues [2. 1.]\n",
      "Right eigenvectors:\n",
      "[[0.89442719 0.70710678]\n",
      " [0.4472136  0.70710678]]\n"
     ]
    }
   ],
   "source": [
    "#importing libraries \n",
    "import numpy as np\n",
    "#computing eigenvalues and right eigenvectors \n",
    "c = np.array([[3, -2], [1, 0]])\n",
    "eigenvalues, eigenvectors = np.linalg.eig(c)\n",
    "#print eigenvalues \n",
    "print(\"Eigenvalues\", eigenvalues)\n",
    "print(\"Right eigenvectors:\")\n",
    "#print eigenvectors \n",
    "print(eigenvectors)"
   ]
  },
  {
   "cell_type": "code",
   "execution_count": 11,
   "metadata": {
    "colab": {
     "base_uri": "https://localhost:8080/"
    },
    "id": "VIdKcM2cGIGx",
    "outputId": "10b91093-1a0c-43ac-8a7d-36fb0fb92963"
   },
   "outputs": [
    {
     "name": "stdout",
     "output_type": "stream",
     "text": [
      "Sum of diagonal elements/TRace: 4\n"
     ]
    }
   ],
   "source": [
    "#importing libraries\n",
    "import numpy as np\n",
    "d= np.array([[0, 1, 2], [3, 4, 5]])\n",
    "#tracing the matrix using trace() function \n",
    "sum= np.trace(d)\n",
    "print(\"Sum of diagonal elements/TRace:\", sum)"
   ]
  },
  {
   "cell_type": "code",
   "execution_count": 12,
   "metadata": {
    "colab": {
     "base_uri": "https://localhost:8080/"
    },
    "id": "tz3Gg-E8Ggz_",
    "outputId": "55318a78-1fe4-4018-c79b-57d89e8fd684"
   },
   "outputs": [
    {
     "name": "stdout",
     "output_type": "stream",
     "text": [
      "Original array:\n",
      " [[1 2]\n",
      " [3 4]\n",
      " [5 6]]\n",
      "Reshaped array:\n",
      " [[1 2 3]\n",
      " [4 5 6]]\n"
     ]
    }
   ],
   "source": [
    "#importing libraries\n",
    "import numpy as np\n",
    "e= np.array([[1, 2], [3, 4], [5, 6]])\n",
    "#reshaping the array\n",
    "f= e.reshape((2, 3))\n",
    "#printing original and reshaped array\n",
    "print(\"Original array:\\n\", e)\n",
    "print(\"Reshaped array:\\n\", f)"
   ]
  },
  {
   "cell_type": "code",
   "execution_count": 13,
   "metadata": {
    "colab": {
     "base_uri": "https://localhost:8080/"
    },
    "id": "PdNETH-IG841",
    "outputId": "169c773c-832e-4c88-c160-8adda2b683fb"
   },
   "outputs": [
    {
     "name": "stdout",
     "output_type": "stream",
     "text": [
      "Original array:\n",
      " [[1 2 3]\n",
      " [4 5 6]]\n",
      "Reshaped array:\n",
      " [[1 2]\n",
      " [3 4]\n",
      " [5 6]]\n"
     ]
    }
   ],
   "source": [
    "#importing libraries\n",
    "import numpy as np\n",
    "g = np.array([[1, 2, 3], [4, 5, 6]])\n",
    "#reshaping the array\n",
    "h= g.reshape((3, 2))\n",
    "#printing original and reshaped array\n",
    "print(\"Original array:\\n\", g)\n",
    "print(\"Reshaped array:\\n\", h)"
   ]
  },
  {
   "cell_type": "code",
   "execution_count": 14,
   "metadata": {
    "colab": {
     "base_uri": "https://localhost:8080/",
     "height": 406
    },
    "id": "D_WTVn_AHeDP",
    "outputId": "205fe048-36de-4494-fe8a-4189d5037796"
   },
   "outputs": [
    {
     "data": {
      "image/png": "[encoded data removed]",
      "text/plain": [
       "<Figure size 640x480 with 1 Axes>"
      ]
     },
     "metadata": {},
     "output_type": "display_data"
    }
   ],
   "source": [
    "#importing plot libraries\n",
    "import matplotlib.pyplot as plt\n",
    "languages = ['Java', 'Python', 'PHP', 'JavaScript', 'C#', 'C++']\n",
    "popularity = [22.2, 17.6, 8.8, 8, 7.7, 6.7]\n",
    "#operating in float \n",
    "plt.pie(popularity, labels=languages, autopct='%1.1f%%')\n",
    "#showing the pie chart\n",
    "plt.show()"
   ]
  },
  {
   "cell_type": "code",
   "execution_count": null,
   "metadata": {},
   "outputs": [],
   "source": []
  }
 ],
 "metadata": {
  "colab": {
   "provenance": []
  },
  "kernelspec": {
   "display_name": "Python 3 (ipykernel)",
   "language": "python",
   "name": "python3"
  },
  "language_info": {
   "codemirror_mode": {
    "name": "ipython",
    "version": 3
   },
   "file_extension": ".py",
   "mimetype": "text/x-python",
   "name": "python",
   "nbconvert_exporter": "python",
   "pygments_lexer": "ipython3",
   "version": "3.10.9"
  }
 },
 "nbformat": 4,
 "nbformat_minor": 1
}
